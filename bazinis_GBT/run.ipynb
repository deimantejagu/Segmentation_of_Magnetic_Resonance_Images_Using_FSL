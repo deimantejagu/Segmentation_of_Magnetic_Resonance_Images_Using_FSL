{
 "cells": [
  {
   "cell_type": "code",
   "execution_count": null,
   "metadata": {
    "colab": {
     "base_uri": "https://localhost:8080/"
    },
    "executionInfo": {
     "elapsed": 20658,
     "status": "ok",
     "timestamp": 1747842964698,
     "user": {
      "displayName": "Deimantė Ja",
      "userId": "18204054727300762578"
     },
     "user_tz": -180
    },
    "id": "GFT_PD-B0sI7",
    "outputId": "fcf2c203-c1ab-447d-acfb-6863245eb846"
   },
   "outputs": [
    {
     "name": "stdout",
     "output_type": "stream",
     "text": [
      "Mounted at /content/drive/\n"
     ]
    }
   ],
   "source": [
    "from google.colab import drive\n",
    "drive.mount('/content/drive/')\n",
    "\n",
    "%cd /content/drive/MyDrive/Colab Notebooks/Bakalauras/bazinis_GBT/pytorch"
   ]
  },
  {
   "cell_type": "code",
   "execution_count": null,
   "metadata": {
    "id": "FGT6ob03jOPh"
   },
   "outputs": [],
   "source": [
    "!pip install nipype\n",
    "!pip install tensorboardX"
   ]
  },
  {
   "cell_type": "code",
   "execution_count": null,
   "metadata": {
    "id": "YoX-LOyaU4Bq"
   },
   "outputs": [],
   "source": [
    "!python \"/content/drive/MyDrive/Colab Notebooks/Bakalauras/bazinis_GBT/pytorch/main.py\" \"/content/drive/MyDrive/Colab Notebooks/Bakalauras/bazinis_GBT/pytorch/configs/fmgan.json\""
   ]
  }
 ],
 "metadata": {
  "accelerator": "GPU",
  "colab": {
   "authorship_tag": "ABX9TyPPt1HpgLuGUUD0GVQI+wN7",
   "gpuType": "L4",
   "mount_file_id": "16LiZcnNm6HV-ioa4aEWSjr1BN2nbzaE5",
   "provenance": []
  },
  "kernelspec": {
   "display_name": "Python 3",
   "name": "python3"
  },
  "language_info": {
   "name": "python"
  }
 },
 "nbformat": 4,
 "nbformat_minor": 0
}
