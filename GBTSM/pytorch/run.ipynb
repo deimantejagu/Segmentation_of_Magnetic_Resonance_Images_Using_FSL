{
 "cells": [
  {
   "cell_type": "code",
   "execution_count": null,
   "id": "244d3c5d-24f9-4bf2-93de-cf1ea2e4be0a",
   "metadata": {},
   "outputs": [],
   "source": [
    "!pip install nipype\n",
    "!pip install easydict\n",
    "!pip install scikit-learn\n",
    "!pip install tqdm\n",
    "!pip install torchvision\n",
    "!pip install imageio\n",
    "!pip install nibabel\n",
    "!pip install torchmetrics\n",
    "!pip install torch-fidelity\n",
    "!pip install segmentation-models-pytorch"
   ]
  },
  {
   "cell_type": "code",
   "execution_count": null,
   "id": "bda1f324",
   "metadata": {},
   "outputs": [],
   "source": [
    "!python3 main.py configs/fmgan.json"
   ]
  }
 ],
 "metadata": {
  "kernelspec": {
   "display_name": "Python 3 (ipykernel)",
   "language": "python",
   "name": "python3"
  },
  "language_info": {
   "codemirror_mode": {
    "name": "ipython",
    "version": 3
   },
   "file_extension": ".py",
   "mimetype": "text/x-python",
   "name": "python",
   "nbconvert_exporter": "python",
   "pygments_lexer": "ipython3",
   "version": "3.8.13"
  }
 },
 "nbformat": 4,
 "nbformat_minor": 5
}
